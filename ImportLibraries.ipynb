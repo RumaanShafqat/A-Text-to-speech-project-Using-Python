pip install gTTS
from google.colab import drive
drive.mount('/content/drive')
